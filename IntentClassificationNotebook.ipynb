{
 "cells": [
  {
   "cell_type": "markdown",
   "metadata": {},
   "source": [
    "# Intent clasification project\n",
    "\n",
    "In this notebook I use pre-trained BERT model to perform intent classification on  [“An Evaluation Dataset for Intent Classification and Out-of-Scope Prediction”]( https://github.com/clinc/oos-eval ) dataset. I describe the process for loading, preprocessing and feature transformation on the data. Then, I show how to fine-tune the pre-trained BERT model for this dataset and evaluate it on the test dataset to get close to 97% accuracy. I compare different evaluation metrics and discuss some of the improvements that can be made in future."
   ]
  },
  {
   "cell_type": "markdown",
   "metadata": {},
   "source": [
    "## Pre-processing the data\n",
    "\n",
    "Since the data is in json format, first I load it into a pandas dataframe. "
   ]
  },
  {
   "cell_type": "code",
   "execution_count": 28,
   "metadata": {},
   "outputs": [
    {
     "data": {
      "text/html": [
       "<div>\n",
       "<style scoped>\n",
       "    .dataframe tbody tr th:only-of-type {\n",
       "        vertical-align: middle;\n",
       "    }\n",
       "\n",
       "    .dataframe tbody tr th {\n",
       "        vertical-align: top;\n",
       "    }\n",
       "\n",
       "    .dataframe thead th {\n",
       "        text-align: right;\n",
       "    }\n",
       "</style>\n",
       "<table border=\"1\" class=\"dataframe\">\n",
       "  <thead>\n",
       "    <tr style=\"text-align: right;\">\n",
       "      <th></th>\n",
       "      <th>oos_val</th>\n",
       "      <th>val</th>\n",
       "      <th>train</th>\n",
       "      <th>oos_test</th>\n",
       "      <th>test</th>\n",
       "      <th>oos_train</th>\n",
       "    </tr>\n",
       "  </thead>\n",
       "  <tbody>\n",
       "    <tr>\n",
       "      <th>0</th>\n",
       "      <td>[set a warning for when my bank account starts...</td>\n",
       "      <td>[in spanish, meet me tomorrow is said how, tra...</td>\n",
       "      <td>[what expression would i use to say i love you...</td>\n",
       "      <td>[how much has the dow changed today, oos]</td>\n",
       "      <td>[how would you say fly in italian, translate]</td>\n",
       "      <td>[how much is an overdraft fee for bank, oos]</td>\n",
       "    </tr>\n",
       "    <tr>\n",
       "      <th>1</th>\n",
       "      <td>[a show on broadway, oos]</td>\n",
       "      <td>[in french, how do i say, see you later, trans...</td>\n",
       "      <td>[can you tell me how to say 'i do not speak mu...</td>\n",
       "      <td>[how many prime numbers are there between 0 an...</td>\n",
       "      <td>[what's the spanish word for pasta, translate]</td>\n",
       "      <td>[why are exponents preformed before multiplica...</td>\n",
       "    </tr>\n",
       "    <tr>\n",
       "      <th>2</th>\n",
       "      <td>[who has the best record in the nfl, oos]</td>\n",
       "      <td>[how do you say hello in japanese, translate]</td>\n",
       "      <td>[what is the equivalent of, 'life is good' in ...</td>\n",
       "      <td>[can you tell me how to solve simple algebraic...</td>\n",
       "      <td>[how would they say butter in zambia, translate]</td>\n",
       "      <td>[what size wipers does this car take, oos]</td>\n",
       "    </tr>\n",
       "    <tr>\n",
       "      <th>3</th>\n",
       "      <td>[how do i find the area of a circle, oos]</td>\n",
       "      <td>[how do i ask about the weather in chinese, tr...</td>\n",
       "      <td>[tell me how to say, 'it is a beautiful mornin...</td>\n",
       "      <td>[can you dim the brightness of my screen, oos]</td>\n",
       "      <td>[how do you say fast in spanish, translate]</td>\n",
       "      <td>[where is the dipstick, oos]</td>\n",
       "    </tr>\n",
       "    <tr>\n",
       "      <th>4</th>\n",
       "      <td>[how many onions do i have on hand, oos]</td>\n",
       "      <td>[how can i say \"cancel my order\" in french, tr...</td>\n",
       "      <td>[if i were mongolian, how would i say that i a...</td>\n",
       "      <td>[what is the account number to the internet se...</td>\n",
       "      <td>[what's the word for trees in norway, translate]</td>\n",
       "      <td>[how much is 1 share of aapl, oos]</td>\n",
       "    </tr>\n",
       "  </tbody>\n",
       "</table>\n",
       "</div>"
      ],
      "text/plain": [
       "                                             oos_val  \\\n",
       "0  [set a warning for when my bank account starts...   \n",
       "1                          [a show on broadway, oos]   \n",
       "2          [who has the best record in the nfl, oos]   \n",
       "3          [how do i find the area of a circle, oos]   \n",
       "4           [how many onions do i have on hand, oos]   \n",
       "\n",
       "                                                 val  \\\n",
       "0  [in spanish, meet me tomorrow is said how, tra...   \n",
       "1  [in french, how do i say, see you later, trans...   \n",
       "2      [how do you say hello in japanese, translate]   \n",
       "3  [how do i ask about the weather in chinese, tr...   \n",
       "4  [how can i say \"cancel my order\" in french, tr...   \n",
       "\n",
       "                                               train  \\\n",
       "0  [what expression would i use to say i love you...   \n",
       "1  [can you tell me how to say 'i do not speak mu...   \n",
       "2  [what is the equivalent of, 'life is good' in ...   \n",
       "3  [tell me how to say, 'it is a beautiful mornin...   \n",
       "4  [if i were mongolian, how would i say that i a...   \n",
       "\n",
       "                                            oos_test  \\\n",
       "0          [how much has the dow changed today, oos]   \n",
       "1  [how many prime numbers are there between 0 an...   \n",
       "2  [can you tell me how to solve simple algebraic...   \n",
       "3     [can you dim the brightness of my screen, oos]   \n",
       "4  [what is the account number to the internet se...   \n",
       "\n",
       "                                               test  \\\n",
       "0     [how would you say fly in italian, translate]   \n",
       "1    [what's the spanish word for pasta, translate]   \n",
       "2  [how would they say butter in zambia, translate]   \n",
       "3       [how do you say fast in spanish, translate]   \n",
       "4  [what's the word for trees in norway, translate]   \n",
       "\n",
       "                                           oos_train  \n",
       "0       [how much is an overdraft fee for bank, oos]  \n",
       "1  [why are exponents preformed before multiplica...  \n",
       "2         [what size wipers does this car take, oos]  \n",
       "3                       [where is the dipstick, oos]  \n",
       "4                 [how much is 1 share of aapl, oos]  "
      ]
     },
     "execution_count": 28,
     "metadata": {},
     "output_type": "execute_result"
    }
   ],
   "source": [
    "import pandas as pd\n",
    "import numpy as np\n",
    "import json\n",
    "\n",
    "#load data using Python JSON module\n",
    "with open('./data_full.json','r') as f:\n",
    "    data = json.loads(f.read())\n",
    "\n",
    "df = pd.DataFrame.from_dict(data, orient='index')\n",
    "df = df.transpose()\n",
    "df.head()"
   ]
  },
  {
   "cell_type": "markdown",
   "metadata": {},
   "source": [
    "From this dataframe we need to select the train, validation and test data and not consider Out-of-Scope intents for this problem. Each cell contains a list with sentence and the intent. e.g. \\[how would you say fly in italian, translate\\] . I select train, val and test columns from the dataframe and split it into a dataframe containing content and intent using the *slice_df* fuction below. I drop the rows with NaN values."
   ]
  },
  {
   "cell_type": "code",
   "execution_count": 29,
   "metadata": {},
   "outputs": [
    {
     "name": "stdout",
     "output_type": "stream",
     "text": [
      "train has NaN values: False\n",
      "val has NaN values: True\n",
      "test has NaN values: True\n",
      "instances in train, validation, test datasets: (15000, 3000, 4500)\n"
     ]
    }
   ],
   "source": [
    "def col2df(df, column):\n",
    "    \"\"\"Split column into a dataframe with content and intent columns.\"\"\"\n",
    "    \n",
    "    # check if there are any NaN values\n",
    "    print(f'{column} has NaN values: {df[column].isnull().values.any()}')\n",
    "    # drop the rows with invalid values\n",
    "    sliced_df = df[column].dropna()\n",
    "    # split list into content and intent columns\n",
    "    sliced_df = pd.DataFrame(sliced_df.to_list(),\n",
    "                             columns=['content', 'intent'])\n",
    "    return sliced_df\n",
    "\n",
    "train_df = col2df(df, 'train')\n",
    "val_df = col2df(df, 'val')\n",
    "test_df = col2df(df, 'test')\n",
    "\n",
    "#print(train_df.head())\n",
    "print(f'instances in train, validation, test datasets: {train_df.shape[0], val_df.shape[0], test_df.shape[0]}')"
   ]
  },
  {
   "cell_type": "markdown",
   "metadata": {},
   "source": [
    "Now I randomly sample 20 intents for classification. I choose the data that corresponds to these randomly sampled intents from train, validation and test datasets. random.sample() samples without replacement, therefore all the intents are different."
   ]
  },
  {
   "cell_type": "code",
   "execution_count": 30,
   "metadata": {},
   "outputs": [
    {
     "name": "stdout",
     "output_type": "stream",
     "text": [
      "sampled intents are unique\n",
      "instances in train, validation, test datasets after sampling 20 intents:      (2000, 400, 600)\n"
     ]
    }
   ],
   "source": [
    "def select_rows(df, sampled_intents):\n",
    "    \"\"\"Choose data from df that corresponds to labels in sampled_intents.\"\"\"\n",
    "    return df.loc[df.intent.isin(sampled_intents)]\n",
    "\n",
    "import random\n",
    "random.seed(5)\n",
    "sampled_intents = random.sample(list(train_df['intent'].unique()), k=20)\n",
    "\n",
    "# check if sampled intents are unique\n",
    "if len(sampled_intents) == len(set(sampled_intents)):\n",
    "   print(\"sampled intents are unique\")\n",
    "\n",
    "# select rows correspoding to sampled_intents\n",
    "train_df = select_rows(train_df, sampled_intents)\n",
    "val_df = select_rows(val_df, sampled_intents)\n",
    "test_df = select_rows(test_df, sampled_intents)\n",
    "\n",
    "print(f'instances in train, validation, test datasets after sampling 20 intents:\\\n",
    "      {train_df.shape[0], val_df.shape[0], test_df.shape[0]}')"
   ]
  },
  {
   "cell_type": "markdown",
   "metadata": {},
   "source": [
    "## Model Selection\n",
    "\n",
    "I selected pre-trained BERT with fine-tuning for intent classification on this dataset. As there are only a few instances for training and there were constraints to use less compute time (less that 2 hours), I thought transfer-learning would be the best suitable method as we have pre-trained weights from a large-corpus of data. \n",
    "\n",
    "Since transformers are current state-of-the art for language based tasks, I wanted to use a transformer based model. From my research, I figured that BERT was one of the best transformer based models for intent classification task. Therefore, I chose BERT for sequence classification as my model for this task. \n",
    "\n",
    "Below I discuss the feature transformation to use with BERT, model, parameters and evaluation. \n",
    "\n",
    "\n",
    "\n"
   ]
  },
  {
   "cell_type": "code",
   "execution_count": 4,
   "metadata": {},
   "outputs": [],
   "source": [
    "\n",
    "%%capture\n",
    "\n",
    "# install\n",
    "!pip install transformers pytorch-nlp\n",
    "\n",
    "# BERT imports\n",
    "import torch\n",
    "from torch.utils.data import TensorDataset, DataLoader, RandomSampler, SequentialSampler\n",
    "from keras.preprocessing.sequence import pad_sequences\n",
    "from sklearn.model_selection import train_test_split\n",
    "from transformers import BertTokenizer, BertConfig\n",
    "from transformers import AdamW, BertForSequenceClassification\n",
    "from tqdm import tqdm, trange\n",
    "import pandas as pd\n",
    "import io\n",
    "import numpy as np\n",
    "import matplotlib.pyplot as plt\n",
    "% matplotlib inline\n",
    "\n"
   ]
  },
  {
   "cell_type": "code",
   "execution_count": 5,
   "metadata": {
    "scrolled": true
   },
   "outputs": [
    {
     "data": {
      "text/plain": [
       "'GeForce RTX 2080 Ti'"
      ]
     },
     "execution_count": 5,
     "metadata": {},
     "output_type": "execute_result"
    }
   ],
   "source": [
    "# specify GPU device\n",
    "device = torch.device(\"cuda\" if torch.cuda.is_available() else \"cpu\")\n",
    "n_gpu = torch.cuda.device_count()\n",
    "torch.cuda.get_device_name(0)\n"
   ]
  },
  {
   "cell_type": "markdown",
   "metadata": {},
   "source": [
    "## Feature transformation\n",
    "\n",
    "To feed the text as input to BERT for sequence classification, it needs to be transformed in 3 steps.\n",
    "\n",
    "1. Tokenize the input\n",
    "2. Pad all the sequences to a constant length\n",
    "3. Add attention mask to the padded input to differentiate from real input.\n",
    "\n",
    "To tokenize the input we can use the pre-trained BertTokenizer. I use BERT trained on uncased corpus as casing might not be very relevant to intent classification. "
   ]
  },
  {
   "cell_type": "code",
   "execution_count": 6,
   "metadata": {},
   "outputs": [],
   "source": [
    "def tokenize(content, tokenizer):\n",
    "    \"\"\"Tokenize content using tokenizer.\"\"\"\n",
    "\n",
    "    # add special tokens for formatting\n",
    "    sentences = [\"[CLS] \" + query + \" [SEP]\" for query in content]\n",
    "    # tokenize using BERT tokenizer\n",
    "    tokenized_texts = [tokenizer.tokenize(sentence) for sentence in sentences]\n",
    "    return tokenized_texts"
   ]
  },
  {
   "cell_type": "code",
   "execution_count": 7,
   "metadata": {
    "scrolled": true
   },
   "outputs": [
    {
     "name": "stdout",
     "output_type": "stream",
     "text": [
      "original text of first instance: what is the meaning of realism\n",
      "tokenized text of first instance: ['[CLS]', 'what', 'is', 'the', 'meaning', 'of', 'realism', '[SEP]']\n",
      "maximum length of sequences: 26\n"
     ]
    }
   ],
   "source": [
    "# Tokenize with BERT tokenizer\n",
    "tokenizer = BertTokenizer.from_pretrained('bert-base-uncased', do_lower_case=True)\n",
    "\n",
    "# Tokenize\n",
    "train_tokenized_texts = tokenize(train_df.content, tokenizer)\n",
    "val_tokenized_texts = tokenize(val_df.content, tokenizer)\n",
    "test_tokenized_texts = tokenize(test_df.content, tokenizer)\n",
    "\n",
    "print(f'original text of first instance: {train_df.content.iloc[0]}')\n",
    "print(f'tokenized text of first instance: {train_tokenized_texts[0]}')\n",
    "      \n",
    "max_len = max(map(len, train_tokenized_texts))\n",
    "print(f'maximum length of sequences: {max_len}')"
   ]
  },
  {
   "cell_type": "markdown",
   "metadata": {},
   "source": [
    "Maximum length of the sequence is 26. I use 128 as a constant length to pad the sequences."
   ]
  },
  {
   "cell_type": "code",
   "execution_count": 8,
   "metadata": {},
   "outputs": [],
   "source": [
    "def pad(tokenized_texts, tokenizer, seq_len):\n",
    "    \"\"\"Return mapped and padded input ids.\"\"\"\n",
    "    \n",
    "    # Set the maximum sequence length. \n",
    "    MAX_LEN = seq_len\n",
    "    # Use the BERT tokenizer to convert the tokens to their index numbers in the BERT vocabulary\n",
    "    input_ids = [tokenizer.convert_tokens_to_ids(x) for x in tokenized_texts]\n",
    "    # Pad our input tokens\n",
    "    input_ids = pad_sequences(input_ids, maxlen=MAX_LEN, dtype=\"long\", truncating=\"post\", padding=\"post\")\n",
    "    return input_ids"
   ]
  },
  {
   "cell_type": "code",
   "execution_count": 9,
   "metadata": {},
   "outputs": [
    {
     "name": "stdout",
     "output_type": "stream",
     "text": [
      "Mapped and padded input of first instance: [  101  2054  2003  1996  3574  1997 15650   102     0     0     0     0\n",
      "     0     0     0     0     0     0     0     0     0     0     0     0\n",
      "     0     0     0     0     0     0     0     0     0     0     0     0\n",
      "     0     0     0     0     0     0     0     0     0     0     0     0\n",
      "     0     0     0     0     0     0     0     0     0     0     0     0\n",
      "     0     0     0     0     0     0     0     0     0     0     0     0\n",
      "     0     0     0     0     0     0     0     0     0     0     0     0\n",
      "     0     0     0     0     0     0     0     0     0     0     0     0\n",
      "     0     0     0     0     0     0     0     0     0     0     0     0\n",
      "     0     0     0     0     0     0     0     0     0     0     0     0\n",
      "     0     0     0     0     0     0     0     0]\n"
     ]
    }
   ],
   "source": [
    "# Map and pad tokenized text\n",
    "seq_len = 128\n",
    "train_inputs = pad(train_tokenized_texts, tokenizer, seq_len)\n",
    "validation_inputs = pad(val_tokenized_texts, tokenizer, seq_len)\n",
    "test_inputs = pad(test_tokenized_texts, tokenizer, seq_len)\n",
    "\n",
    "print(f'Mapped and padded input of first instance: {train_inputs[0]}')"
   ]
  },
  {
   "cell_type": "code",
   "execution_count": 10,
   "metadata": {},
   "outputs": [],
   "source": [
    "def mask(input_ids):\n",
    "    \"Create attention masks of 1s for each token followed by 0s for padding.\"\n",
    "    attention_masks = []\n",
    "    # Create a mask of 1s for each token followed by 0s for padding\n",
    "    for seq in input_ids:\n",
    "      seq_mask = [float(i>0) for i in seq]\n",
    "      attention_masks.append(seq_mask)\n",
    "    return attention_masks\n"
   ]
  },
  {
   "cell_type": "code",
   "execution_count": 11,
   "metadata": {},
   "outputs": [
    {
     "name": "stdout",
     "output_type": "stream",
     "text": [
      "attention mask of first instance: [1.0, 1.0, 1.0, 1.0, 1.0, 1.0, 1.0, 1.0, 0.0, 0.0, 0.0, 0.0, 0.0, 0.0, 0.0, 0.0, 0.0, 0.0, 0.0, 0.0, 0.0, 0.0, 0.0, 0.0, 0.0, 0.0, 0.0, 0.0, 0.0, 0.0, 0.0, 0.0, 0.0, 0.0, 0.0, 0.0, 0.0, 0.0, 0.0, 0.0, 0.0, 0.0, 0.0, 0.0, 0.0, 0.0, 0.0, 0.0, 0.0, 0.0, 0.0, 0.0, 0.0, 0.0, 0.0, 0.0, 0.0, 0.0, 0.0, 0.0, 0.0, 0.0, 0.0, 0.0, 0.0, 0.0, 0.0, 0.0, 0.0, 0.0, 0.0, 0.0, 0.0, 0.0, 0.0, 0.0, 0.0, 0.0, 0.0, 0.0, 0.0, 0.0, 0.0, 0.0, 0.0, 0.0, 0.0, 0.0, 0.0, 0.0, 0.0, 0.0, 0.0, 0.0, 0.0, 0.0, 0.0, 0.0, 0.0, 0.0, 0.0, 0.0, 0.0, 0.0, 0.0, 0.0, 0.0, 0.0, 0.0, 0.0, 0.0, 0.0, 0.0, 0.0, 0.0, 0.0, 0.0, 0.0, 0.0, 0.0, 0.0, 0.0, 0.0, 0.0, 0.0, 0.0, 0.0, 0.0]\n"
     ]
    }
   ],
   "source": [
    "# Mask the padded sequences\n",
    "train_masks = mask(train_inputs)\n",
    "validation_masks = mask(validation_inputs)\n",
    "test_masks = mask(test_inputs)\n",
    "\n",
    "print(f'attention mask of first instance: {train_masks[0]}')"
   ]
  },
  {
   "cell_type": "markdown",
   "metadata": {},
   "source": [
    "I convert the categorical intents into numbers using label encoding from scikit learn."
   ]
  },
  {
   "cell_type": "code",
   "execution_count": 12,
   "metadata": {},
   "outputs": [
    {
     "name": "stdout",
     "output_type": "stream",
     "text": [
      "labels before encoding: ['thank_you', 'credit_limit', 'expiration_date', 'travel_alert', 'reset_settings', 'travel_notification', 'replacement_card_duration', 'credit_score', 'rollover_401k', 'pin_change', 'what_is_your_name', 'account_blocked', 'change_ai_name', 'confirm_reservation', 'order', 'definition', 'nutrition_info', 'measurement_conversion', 'ingredient_substitution', 'yes']\n",
      "labels after encoding: [ 0  1  2  3  4  5  6  7  8  9 10 11 12 13 14 15 16 17 18 19]\n"
     ]
    }
   ],
   "source": [
    "from sklearn.preprocessing import LabelEncoder\n",
    "\n",
    "def cat2num(labels):\n",
    "    \"\"\"Encode categorical labels to numbers.\"\"\"\n",
    "    le = LabelEncoder()\n",
    "    le.fit(labels)\n",
    "    label_enc = le.transform(labels)\n",
    "    return label_enc\n",
    "\n",
    "train_labels = cat2num(train_df['intent'])\n",
    "validation_labels = cat2num(np.array(val_df['intent']))\n",
    "test_labels = cat2num(np.array(test_df['intent']))\n",
    "\n",
    "print(f'labels before encoding: {sampled_intents}')\n",
    "print(f'labels after encoding: {np.unique(train_labels)}')"
   ]
  },
  {
   "cell_type": "code",
   "execution_count": 13,
   "metadata": {},
   "outputs": [],
   "source": [
    "%%capture\n",
    "# Convert all of our data into torch tensors, the required datatype for our model\n",
    "train_inputs = torch.tensor(train_inputs)\n",
    "validation_inputs = torch.tensor(validation_inputs)\n",
    "train_labels = torch.tensor(train_labels)\n",
    "\n",
    "validation_labels = torch.tensor(validation_labels)\n",
    "train_masks = torch.tensor(train_masks)\n",
    "validation_masks = torch.tensor(validation_masks)\n",
    "\n",
    "# Select a batch size for training. \n",
    "batch_size = 16\n",
    "\n",
    "# Create an iterator of our data with torch DataLoader \n",
    "train_data = TensorDataset(train_inputs, train_masks, train_labels)\n",
    "train_sampler = RandomSampler(train_data)\n",
    "train_dataloader = DataLoader(train_data, sampler=train_sampler, batch_size=batch_size)\n",
    "\n",
    "validation_data = TensorDataset(validation_inputs, validation_masks, validation_labels)\n",
    "validation_sampler = SequentialSampler(validation_data)\n",
    "validation_dataloader = DataLoader(validation_data, sampler=validation_sampler, batch_size=batch_size)"
   ]
  },
  {
   "cell_type": "markdown",
   "metadata": {},
   "source": [
    "## Model \n",
    "I use the pre-trained uncased BertForSequenceClassification model for this task. It has 12 pre-trained transformer encoder layers and a last classifier layer with randomly initilaized weights. The last layer has 20 outputs for 20 intent classification. "
   ]
  },
  {
   "cell_type": "code",
   "execution_count": 31,
   "metadata": {},
   "outputs": [],
   "source": [
    "%%capture\n",
    "model = BertForSequenceClassification.from_pretrained(\"bert-base-uncased\", num_labels=len(sampled_intents))\n",
    "model.cuda() if torch.cuda.is_available() else model\n"
   ]
  },
  {
   "cell_type": "markdown",
   "metadata": {},
   "source": [
    "## BERT fine tuning paraeters\n",
    "\n",
    "In appendix A.3, authors of the [BERT](https://arxiv.org/pdf/1810.04805.pdf) prescribe following parameters for fine-tuning.\n",
    "\n",
    "1. Batch size: 16, 32\n",
    "2. Learning rate (Adam): 5e-5, 3e-5, 2e-5\n",
    "3. Number of epochs: 2, 3, 4\n",
    "\n",
    "I use batch size of 16, learning rate of 2e-5 and 4 epochs"
   ]
  },
  {
   "cell_type": "code",
   "execution_count": 15,
   "metadata": {},
   "outputs": [],
   "source": [
    "# save model in ./model_save/'\n",
    "import os\n",
    "def save(model, tokenizer):\n",
    "    \"\"\"Save model parameters and tokenizer\"\"\"\n",
    "\n",
    "    output_dir = './model_save/'\n",
    "\n",
    "    # Create output directory if needed\n",
    "    if not os.path.exists(output_dir):\n",
    "        os.makedirs(output_dir)\n",
    "\n",
    "    print(\"Saving model to %s\" % output_dir)\n",
    "\n",
    "    # Save a trained model, configuration and tokenizer using\n",
    "    # `save_pretrained()`.\n",
    "    # They can then be reloaded using `from_pretrained()`\n",
    "    model_to_save = model.module if hasattr(model,\n",
    "                                                 'module') else model\n",
    "    model_to_save.save_pretrained(output_dir)\n",
    "    tokenizer.save_pretrained(output_dir)"
   ]
  },
  {
   "cell_type": "code",
   "execution_count": 16,
   "metadata": {},
   "outputs": [],
   "source": [
    "# BERT fine-tuning parameters\n",
    "optimizer = AdamW(model.parameters(),\n",
    "                     lr=2e-5)\n",
    "\n",
    "# Function to calculate the accuracy of our predictions vs labels\n",
    "def flat_accuracy(preds, labels):\n",
    "    \"\"\"Calculate the accuracy of our predictions vs labels.\"\"\"\n",
    "    pred_flat = np.argmax(preds, axis=1).flatten()\n",
    "    labels_flat = labels.flatten()\n",
    "    return np.sum(pred_flat == labels_flat) / len(labels_flat)"
   ]
  },
  {
   "cell_type": "code",
   "execution_count": 17,
   "metadata": {},
   "outputs": [
    {
     "name": "stdout",
     "output_type": "stream",
     "text": [
      "epoch 1\n",
      "Train loss: 2.113362415790558\n",
      "Validation loss: 0.06581184387207031\n",
      "Improvement-Detected, save-model\n",
      "Saving model to ./model_save/\n",
      "Validation Accuracy: 0.91\n",
      "==================================================\n",
      "epoch 2\n",
      "Train loss: 0.5918653104305267\n",
      "Validation loss: 0.014414939880371094\n",
      "Improvement-Detected, save-model\n",
      "Saving model to ./model_save/\n",
      "Validation Accuracy: 0.965\n",
      "==================================================\n",
      "epoch 3\n",
      "Train loss: 0.1902860153913498\n",
      "Validation loss: 0.009102639555931092\n",
      "Improvement-Detected, save-model\n",
      "Saving model to ./model_save/\n",
      "Validation Accuracy: 0.975\n",
      "==================================================\n",
      "epoch 4\n",
      "Train loss: 0.09669880139827729\n",
      "Validation loss: 0.004042680263519287\n",
      "Improvement-Detected, save-model\n",
      "Saving model to ./model_save/\n",
      "Validation Accuracy: 0.965\n",
      "==================================================\n"
     ]
    },
    {
     "data": {
      "image/png": "[encoded data removed]",
      "text/plain": [
       "<Figure size 1080x576 with 1 Axes>"
      ]
     },
     "metadata": {
      "needs_background": "light"
     },
     "output_type": "display_data"
    }
   ],
   "source": [
    "# Store our loss and accuracy for plotting\n",
    "train_loss_set = []\n",
    "# Number of training epochs\n",
    "epochs = 4\n",
    "min_loss = float('inf')\n",
    "\n",
    "# BERT training loop\n",
    "for _ in range(epochs):\n",
    "    print('epoch {}'.format(_+1))\n",
    "\n",
    "    ## TRAINING\n",
    "\n",
    "    # Set our model to training mode\n",
    "    model.train()\n",
    "    # Tracking variables\n",
    "    tr_loss = 0\n",
    "    nb_tr_examples, nb_tr_steps = 0, 0\n",
    "    # Train the data for one epoch\n",
    "    for step, batch in enumerate(train_dataloader):\n",
    "        # Add batch to GPU\n",
    "        batch = tuple(t.to(device) for t in batch)\n",
    "        # Unpack the inputs from our dataloader\n",
    "        b_input_ids, b_input_mask, b_labels = batch\n",
    "        # Clear out the gradients (by default they accumulate)\n",
    "        optimizer.zero_grad()\n",
    "        # Forward pass\n",
    "        output = model(b_input_ids, token_type_ids=None,\n",
    "                     attention_mask=b_input_mask, labels=b_labels)\n",
    "        loss = output[0]\n",
    "        train_loss_set.append(loss.item())\n",
    "        #print(len(train_loss_set))\n",
    "        # Backward pass\n",
    "        loss.backward()\n",
    "        # Update parameters and take a step using the computed gradient\n",
    "        optimizer.step()\n",
    "        # Update tracking variables\n",
    "        tr_loss += loss.item()\n",
    "        nb_tr_examples += b_input_ids.size(0)\n",
    "        nb_tr_steps += 1\n",
    "    print(\"Train loss: {}\".format(tr_loss / nb_tr_steps))\n",
    "\n",
    "    ## VALIDATION\n",
    "\n",
    "    # Put model in evaluation mode\n",
    "    model.eval()\n",
    "    # Tracking variables\n",
    "    eval_loss, eval_accuracy = 0, 0\n",
    "    nb_eval_steps, nb_eval_examples = 0, 0\n",
    "    # Evaluate data for one epoch\n",
    "    batch_loss = 0\n",
    "    for batch in validation_dataloader:\n",
    "        batch_loss = 0\n",
    "        # Add batch to GPU\n",
    "        batch = tuple(t.to(device) for t in batch)\n",
    "        # Unpack the inputs from our dataloader\n",
    "        b_input_ids, b_input_mask, b_labels = batch\n",
    "        # Telling the model not to compute or store gradients, saving memory and speeding up validation\n",
    "        with torch.no_grad():\n",
    "            # Forward pass, calculate logit predictions                            \n",
    "            output = model(b_input_ids, token_type_ids=None,\n",
    "                         attention_mask=b_input_mask, labels=b_labels)\n",
    "            loss = output[0]\n",
    "            logits = output[1]\n",
    "\n",
    "        batch_loss += loss.item()\n",
    "\n",
    "        # Move logits and labels to CPU\n",
    "        logits = logits.detach().cpu().numpy()\n",
    "        label_ids = b_labels.to('cpu').numpy()\n",
    "\n",
    "        tmp_eval_accuracy = flat_accuracy(logits, label_ids)\n",
    "        eval_accuracy += tmp_eval_accuracy\n",
    "        nb_eval_steps += 1\n",
    "        \n",
    "    print(\n",
    "        \"Validation loss: {}\".format(batch_loss / nb_eval_steps))\n",
    "    if batch_loss < min_loss:\n",
    "        \n",
    "        print('Improvement-Detected, save-model')\n",
    "        save(model, tokenizer)\n",
    "        min_loss = batch_loss\n",
    "\n",
    "    print(\n",
    "        \"Validation Accuracy: {}\".format(eval_accuracy / nb_eval_steps))\n",
    "    print(\"==================================================\")\n",
    "    \n",
    "# plot training performance\n",
    "plt.figure(figsize=(15,8))\n",
    "plt.title(\"Training loss\")\n",
    "plt.xlabel(\"Total number of batches\")\n",
    "plt.ylabel(\"Loss\")\n",
    "plt.plot(train_loss_set)\n",
    "plt.show()"
   ]
  },
  {
   "cell_type": "markdown",
   "metadata": {},
   "source": [
    "As we can see, the loss seems to converge with in 4 epochs."
   ]
  },
  {
   "cell_type": "markdown",
   "metadata": {},
   "source": [
    "## Evaluation\n",
    "\n",
    "I evaluate the trained BERT model on test data and report accuracy, confusion matrix, precision, recall and f1-score."
   ]
  },
  {
   "cell_type": "code",
   "execution_count": 32,
   "metadata": {},
   "outputs": [],
   "source": [
    "%%capture\n",
    "# loading the model\n",
    "del model  # to show loading works\n",
    "\n",
    "# load the fine-tuned saved model and vocabulary \n",
    "output_dir = './model_save/'\n",
    "model = BertForSequenceClassification.from_pretrained(output_dir)\n",
    "tokenizer = BertTokenizer.from_pretrained(output_dir)\n",
    "\n",
    "# Copy the model to GPU if it exists\n",
    "model.to(device)"
   ]
  },
  {
   "cell_type": "code",
   "execution_count": 24,
   "metadata": {},
   "outputs": [],
   "source": [
    "# convert to tensor\n",
    "prediction_inputs = torch.tensor(test_inputs)\n",
    "prediction_masks = torch.tensor(test_masks)\n",
    "prediction_labels = torch.tensor(test_labels)\n",
    "\n",
    "# Create an iterator of our data with torch DataLoader \n",
    "batch_size = 32  \n",
    "prediction_data = TensorDataset(prediction_inputs, prediction_masks, prediction_labels)\n",
    "prediction_sampler = SequentialSampler(prediction_data)\n",
    "prediction_dataloader = DataLoader(prediction_data, sampler=prediction_sampler, batch_size=batch_size)\n",
    "\n",
    "# Put model in evaluation mode\n",
    "model.eval()\n",
    "# Tracking variables\n",
    "predictions, true_labels = [], []\n",
    "# Predict\n",
    "for batch in prediction_dataloader:\n",
    "    # Add batch to GPU\n",
    "    batch = tuple(t.to(device) for t in batch)\n",
    "    # Unpack the inputs from our dataloader\n",
    "    b_input_ids, b_input_mask, b_labels = batch\n",
    "    # Telling the model not to compute or store gradients, saving memory\n",
    "    # and speeding up prediction\n",
    "    with torch.no_grad():\n",
    "        # Forward pass, calculate logit predictions\n",
    "        output = model(b_input_ids, token_type_ids=None,\n",
    "                       attention_mask=b_input_mask)\n",
    "        logits = output[0]\n",
    "    # Move logits and labels to CPU\n",
    "    logits = logits.detach().cpu().numpy()\n",
    "    label_ids = b_labels.to('cpu').numpy()\n",
    "    # Store predictions and true labels\n",
    "    predictions.append(logits)\n",
    "    true_labels.append(label_ids)\n",
    "\n",
    "# Flatten the predictions and true values for aggregate  evaluation\n",
    "# on the whole dataset\n",
    "flat_predictions = [item for sublist in predictions for item in sublist]\n",
    "flat_predictions = np.argmax(flat_predictions, axis=1).flatten()\n",
    "flat_true_labels = [item for sublist in true_labels for item in sublist]\n"
   ]
  },
  {
   "cell_type": "code",
   "execution_count": 25,
   "metadata": {},
   "outputs": [],
   "source": [
    "from sklearn.metrics import confusion_matrix\n",
    "import seaborn as sn\n",
    "import pandas as pd\n",
    "import matplotlib.pyplot as plt\n",
    "\n",
    "def plot_confusion_matrix(flat_true_labels, flat_predictions, intents):\n",
    "    cm = confusion_matrix(flat_true_labels,\n",
    "                          flat_predictions)\n",
    "    array = cm\n",
    "    df_cm = pd.DataFrame(array, index=[i for i in intents],\n",
    "                         columns=[i for i in intents])\n",
    "    plt.figure(figsize=(10, 7))\n",
    "    sn.heatmap(df_cm, annot=True)\n"
   ]
  },
  {
   "cell_type": "code",
   "execution_count": 26,
   "metadata": {},
   "outputs": [
    {
     "name": "stdout",
     "output_type": "stream",
     "text": [
      "Classification accuracy using BERT Fine Tuning: 97.17%\n"
     ]
    },
    {
     "data": {
      "image/png": "[encoded data removed]",
      "text/plain": [
       "<Figure size 720x504 with 2 Axes>"
      ]
     },
     "metadata": {
      "needs_background": "light"
     },
     "output_type": "display_data"
    }
   ],
   "source": [
    "from sklearn.metrics import roc_auc_score\n",
    "from sklearn.preprocessing import OneHotEncoder\n",
    "\n",
    "# calculate accuracy\n",
    "accuracy = np.sum(flat_predictions == flat_true_labels) / len(\n",
    "    flat_true_labels)\n",
    "print('Classification accuracy using BERT Fine Tuning: {0:0.2%}'.format(\n",
    "    accuracy))\n",
    "\n",
    "plot_confusion_matrix(flat_true_labels, flat_predictions, sampled_intents)\n"
   ]
  },
  {
   "cell_type": "markdown",
   "metadata": {},
   "source": [
    "x-axis shows the predicted labels and y-axis shows the true lables in the above confusion matrix"
   ]
  },
  {
   "cell_type": "code",
   "execution_count": 27,
   "metadata": {},
   "outputs": [
    {
     "name": "stdout",
     "output_type": "stream",
     "text": [
      "                           precision    recall  f1-score   support\n",
      "\n",
      "                thank_you       0.97      1.00      0.98        30\n",
      "             credit_limit       0.83      1.00      0.91        30\n",
      "          expiration_date       1.00      1.00      1.00        30\n",
      "             travel_alert       0.97      0.97      0.97        30\n",
      "           reset_settings       0.97      1.00      0.98        30\n",
      "      travel_notification       0.94      0.97      0.95        30\n",
      "replacement_card_duration       1.00      0.93      0.97        30\n",
      "             credit_score       1.00      1.00      1.00        30\n",
      "            rollover_401k       1.00      0.93      0.97        30\n",
      "               pin_change       1.00      1.00      1.00        30\n",
      "        what_is_your_name       1.00      0.93      0.97        30\n",
      "          account_blocked       0.96      0.83      0.89        30\n",
      "           change_ai_name       0.93      0.93      0.93        30\n",
      "      confirm_reservation       0.97      1.00      0.98        30\n",
      "                    order       1.00      1.00      1.00        30\n",
      "               definition       0.97      1.00      0.98        30\n",
      "           nutrition_info       1.00      1.00      1.00        30\n",
      "   measurement_conversion       1.00      1.00      1.00        30\n",
      "  ingredient_substitution       0.97      0.97      0.97        30\n",
      "                      yes       1.00      0.97      0.98        30\n",
      "\n",
      "                 accuracy                           0.97       600\n",
      "                macro avg       0.97      0.97      0.97       600\n",
      "             weighted avg       0.97      0.97      0.97       600\n",
      "\n"
     ]
    }
   ],
   "source": [
    "from sklearn.metrics import classification_report\n",
    "\n",
    "target_names = sampled_intents\n",
    "print(classification_report(flat_true_labels, flat_predictions, target_names=target_names))"
   ]
  },
  {
   "cell_type": "markdown",
   "metadata": {},
   "source": [
    "## Future work\n",
    "\n",
    "As we can see that precision for credit limit is lowest with a score of 0.83. We can observe from confusion matrix that 5 instances of account blocked are getting misclassified as credit limit. This could be expected as credit limit and account blocked both deal with bank accounts and may have similar tags.\n",
    "\n",
    "I would like to check if there are any specific tags that are present both in credit limit and account blocked that is throwing the model off. \n",
    "\n",
    "I could also probably tokenize intents using BERT tokenizer or a different tokenizer. This would make the intents ordinal as closer intents may have closer ids. It would be interesting to see how that would impact the classification.\n",
    "\n",
    "I would also like to use one hot encoding for the classes instead of numbers to see if that has any impact on this classification.\n",
    "\n"
   ]
  }
 ],
 "metadata": {
  "kernelspec": {
   "display_name": "Python 3",
   "language": "python",
   "name": "python3"
  },
  "language_info": {
   "codemirror_mode": {
    "name": "ipython",
    "version": 3
   },
   "file_extension": ".py",
   "mimetype": "text/x-python",
   "name": "python",
   "nbconvert_exporter": "python",
   "pygments_lexer": "ipython3",
   "version": "3.7.6"
  }
 },
 "nbformat": 4,
 "nbformat_minor": 4
}
